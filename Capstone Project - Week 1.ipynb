{
    "cells": [
        {
            "cell_type": "markdown",
            "metadata": {
                "collapsed": true
            },
            "source": "# IBM Data Science Capstone Project\n\nBy Jonathan de Steuben"
        },
        {
            "cell_type": "markdown",
            "metadata": {},
            "source": "## Introduction:\n\nIn this project, we will identify areas within Washington, D.C. that would benefit from the placement of various healthcare facilities. The target audiences for this report will be local health officials, local elected officials, and healthcare providers.\n\nWhile there are existing healthcare facilities in Washington, D.C., this report will aim to locate areas within the city that have a smaller concentration as well as areas that could be considered underserved. We will determine what type of facility would best fit the area and make an appropriate recommendation."
        },
        {
            "cell_type": "markdown",
            "metadata": {},
            "source": "## Data:\n\nBased on the description of the problem, this report will leverage open data provided by different sources. The following factors will influence the recommendations that will be made:\n\n* Neighborhood demographic data\n* Number of healthcare facilities within each neighborhood\n* Type of healthcare facilities\n* Distance between facilities (i.e. accessibility)\n\nFor this project, we will group neighborhoods into clusters. The following sources will be used to generate our data and subsequent recommendations:\n\n* [Urban Institute] (https://greaterdc.urban.org/data-explorer?geography=cl17) - neighborhood cluster demographic data\n* [Washington, D.C. Open Data] (https://opendata.dc.gov/) - geoJSON files for visualization\n* [Foursquare API] (https://developer.foursquare.com/docs/resources/categories) - location data for healthcare facilities"
        },
        {
            "cell_type": "markdown",
            "metadata": {},
            "source": "### Neighborhood Data Sample:\n\nWe will use the coordinates of neighborhoods to find healthcare facilities within a specific range. After, we will overlay the demographic data on choropleth and heatmaps to gain insights on the neighborhood clusters."
        },
        {
            "cell_type": "code",
            "execution_count": 3,
            "metadata": {},
            "outputs": [],
            "source": "# The code was removed by Watson Studio for sharing."
        },
        {
            "cell_type": "code",
            "execution_count": 4,
            "metadata": {
                "scrolled": true
            },
            "outputs": [
                {
                    "data": {
                        "text/html": "<div>\n<style scoped>\n    .dataframe tbody tr th:only-of-type {\n        vertical-align: middle;\n    }\n\n    .dataframe tbody tr th {\n        vertical-align: top;\n    }\n\n    .dataframe thead th {\n        text-align: right;\n    }\n</style>\n<table border=\"1\" class=\"dataframe\">\n  <thead>\n    <tr style=\"text-align: right;\">\n      <th></th>\n      <th>OBJECTID</th>\n      <th>GIS_ID</th>\n      <th>NAME</th>\n      <th>WEB_URL</th>\n      <th>LABEL_NAME</th>\n      <th>DATELASTMODIFIED</th>\n      <th>X</th>\n      <th>Y</th>\n      <th>LON</th>\n      <th>LAT</th>\n    </tr>\n  </thead>\n  <tbody>\n    <tr>\n      <th>0</th>\n      <td>1</td>\n      <td>nhood_050</td>\n      <td>Fort Stanton</td>\n      <td>http://NeighborhoodAction.dc.gov</td>\n      <td>Fort Stanton</td>\n      <td>2003-04-10T00:00:00.000Z</td>\n      <td>-76.980348</td>\n      <td>38.855658</td>\n      <td>-76.980348</td>\n      <td>38.855658</td>\n    </tr>\n    <tr>\n      <th>1</th>\n      <td>2</td>\n      <td>nhood_031</td>\n      <td>Congress Heights</td>\n      <td>http://NeighborhoodAction.dc.gov</td>\n      <td>Congress Heights</td>\n      <td>2003-04-10T00:00:00.000Z</td>\n      <td>-76.997950</td>\n      <td>38.841077</td>\n      <td>-76.997950</td>\n      <td>38.841077</td>\n    </tr>\n    <tr>\n      <th>2</th>\n      <td>3</td>\n      <td>nhood_123</td>\n      <td>Washington Highlands</td>\n      <td>http://NeighborhoodAction.dc.gov</td>\n      <td>Washington Highlands</td>\n      <td>2003-04-10T00:00:00.000Z</td>\n      <td>-76.995636</td>\n      <td>38.830237</td>\n      <td>-76.995636</td>\n      <td>38.830237</td>\n    </tr>\n    <tr>\n      <th>3</th>\n      <td>4</td>\n      <td>nhood_008</td>\n      <td>Bellevue</td>\n      <td>http://NeighborhoodAction.dc.gov</td>\n      <td>Bellevue</td>\n      <td>2003-04-10T00:00:00.000Z</td>\n      <td>-77.009271</td>\n      <td>38.826952</td>\n      <td>-77.009271</td>\n      <td>38.826952</td>\n    </tr>\n    <tr>\n      <th>4</th>\n      <td>5</td>\n      <td>nhood_073</td>\n      <td>Knox Hill/Buena Vista</td>\n      <td>http://NeighborhoodAction.dc.gov</td>\n      <td>Knox Hill/Buena Vista</td>\n      <td>2003-04-10T00:00:00.000Z</td>\n      <td>-76.967660</td>\n      <td>38.853688</td>\n      <td>-76.967660</td>\n      <td>38.853688</td>\n    </tr>\n  </tbody>\n</table>\n</div>",
                        "text/plain": "   OBJECTID     GIS_ID                   NAME  \\\n0         1  nhood_050           Fort Stanton   \n1         2  nhood_031       Congress Heights   \n2         3  nhood_123   Washington Highlands   \n3         4  nhood_008               Bellevue   \n4         5  nhood_073  Knox Hill/Buena Vista   \n\n                            WEB_URL             LABEL_NAME  \\\n0  http://NeighborhoodAction.dc.gov           Fort Stanton   \n1  http://NeighborhoodAction.dc.gov       Congress Heights   \n2  http://NeighborhoodAction.dc.gov   Washington Highlands   \n3  http://NeighborhoodAction.dc.gov               Bellevue   \n4  http://NeighborhoodAction.dc.gov  Knox Hill/Buena Vista   \n\n           DATELASTMODIFIED          X          Y        LON        LAT  \n0  2003-04-10T00:00:00.000Z -76.980348  38.855658 -76.980348  38.855658  \n1  2003-04-10T00:00:00.000Z -76.997950  38.841077 -76.997950  38.841077  \n2  2003-04-10T00:00:00.000Z -76.995636  38.830237 -76.995636  38.830237  \n3  2003-04-10T00:00:00.000Z -77.009271  38.826952 -77.009271  38.826952  \n4  2003-04-10T00:00:00.000Z -76.967660  38.853688 -76.967660  38.853688  "
                    },
                    "execution_count": 4,
                    "metadata": {},
                    "output_type": "execute_result"
                }
            ],
            "source": "neighborhoods.head()"
        },
        {
            "cell_type": "markdown",
            "metadata": {},
            "source": "\n### Demographic Data Sample:\n\nNow that we've loaded our neighborhood coordinate data, we'll import a file with population statistics. Note that this file has the neighborhoods clustered."
        },
        {
            "cell_type": "code",
            "execution_count": 5,
            "metadata": {},
            "outputs": [
                {
                    "data": {
                        "text/html": "<div>\n<style scoped>\n    .dataframe tbody tr th:only-of-type {\n        vertical-align: middle;\n    }\n\n    .dataframe tbody tr th {\n        vertical-align: top;\n    }\n\n    .dataframe thead th {\n        text-align: right;\n    }\n</style>\n<table border=\"1\" class=\"dataframe\">\n  <thead>\n    <tr style=\"text-align: right;\">\n      <th></th>\n      <th>timeframe</th>\n      <th>cluster2017</th>\n      <th>TotPop</th>\n      <th>TotPop_m</th>\n      <th>cluster2017_nf</th>\n      <th>start_date</th>\n      <th>end_date</th>\n      <th>PctPopUnder18Years</th>\n      <th>PctPop65andOverYears</th>\n      <th>PctForeignBorn</th>\n      <th>...</th>\n      <th>PctForeignBorn_m</th>\n      <th>PctBlackNonHispBridge_m</th>\n      <th>PctWhiteNonHispBridge_m</th>\n      <th>PctHisp_m</th>\n      <th>PctAPINonHispBridge_m</th>\n      <th>PctFamiliesOwnChildFH_m</th>\n      <th>PctChgTotPop</th>\n      <th>PctChgPopUnder18Years</th>\n      <th>PctChgPop65andOverYear</th>\n      <th>indc</th>\n    </tr>\n  </thead>\n  <tbody>\n    <tr>\n      <th>0</th>\n      <td>2012-16</td>\n      <td>Kalorama Heights, Adams Morgan, Lanier Heights</td>\n      <td>19593</td>\n      <td>769</td>\n      <td>Cluster 1</td>\n      <td>1-Jan-12</td>\n      <td>31-Dec-16</td>\n      <td>7.9</td>\n      <td>9.9</td>\n      <td>20.0</td>\n      <td>...</td>\n      <td>2.4</td>\n      <td>1.7</td>\n      <td>2.8</td>\n      <td>1.8</td>\n      <td>1.4</td>\n      <td>7.2</td>\n      <td>X</td>\n      <td>X</td>\n      <td>X</td>\n      <td>1</td>\n    </tr>\n    <tr>\n      <th>1</th>\n      <td>2012-16</td>\n      <td>Columbia Heights, Mt. Pleasant, Pleasant Plain...</td>\n      <td>51220</td>\n      <td>1649</td>\n      <td>Cluster 2</td>\n      <td>1-Jan-12</td>\n      <td>31-Dec-16</td>\n      <td>15.0</td>\n      <td>7.5</td>\n      <td>24.0</td>\n      <td>...</td>\n      <td>1.8</td>\n      <td>1.8</td>\n      <td>1.4</td>\n      <td>2.4</td>\n      <td>0.8</td>\n      <td>5.6</td>\n      <td>X</td>\n      <td>X</td>\n      <td>X</td>\n      <td>1</td>\n    </tr>\n    <tr>\n      <th>2</th>\n      <td>2012-16</td>\n      <td>Howard University, Le Droit Park, Cardozo/Shaw</td>\n      <td>14043</td>\n      <td>705</td>\n      <td>Cluster 3</td>\n      <td>1-Jan-12</td>\n      <td>31-Dec-16</td>\n      <td>8.4</td>\n      <td>6.6</td>\n      <td>15.0</td>\n      <td>...</td>\n      <td>2.4</td>\n      <td>3.8</td>\n      <td>3.0</td>\n      <td>2.3</td>\n      <td>1.2</td>\n      <td>13.0</td>\n      <td>X</td>\n      <td>X</td>\n      <td>X</td>\n      <td>1</td>\n    </tr>\n    <tr>\n      <th>3</th>\n      <td>2012-16</td>\n      <td>Georgetown, Burleith/Hillandale</td>\n      <td>14991</td>\n      <td>855</td>\n      <td>Cluster 4</td>\n      <td>1-Jan-12</td>\n      <td>31-Dec-16</td>\n      <td>9.7</td>\n      <td>10.0</td>\n      <td>18.0</td>\n      <td>...</td>\n      <td>2.8</td>\n      <td>2.6</td>\n      <td>2.2</td>\n      <td>1.9</td>\n      <td>1.6</td>\n      <td>11.0</td>\n      <td>X</td>\n      <td>X</td>\n      <td>X</td>\n      <td>1</td>\n    </tr>\n    <tr>\n      <th>4</th>\n      <td>2012-16</td>\n      <td>West End, Foggy Bottom, GWU</td>\n      <td>16779</td>\n      <td>895</td>\n      <td>Cluster 5</td>\n      <td>1-Jan-12</td>\n      <td>31-Dec-16</td>\n      <td>2.5</td>\n      <td>9.6</td>\n      <td>24.0</td>\n      <td>...</td>\n      <td>3.1</td>\n      <td>2.1</td>\n      <td>3.3</td>\n      <td>1.8</td>\n      <td>1.7</td>\n      <td>37.0</td>\n      <td>X</td>\n      <td>X</td>\n      <td>X</td>\n      <td>1</td>\n    </tr>\n  </tbody>\n</table>\n<p>5 rows \u00d7 27 columns</p>\n</div>",
                        "text/plain": "  timeframe                                        cluster2017  TotPop  \\\n0   2012-16     Kalorama Heights, Adams Morgan, Lanier Heights   19593   \n1   2012-16  Columbia Heights, Mt. Pleasant, Pleasant Plain...   51220   \n2   2012-16     Howard University, Le Droit Park, Cardozo/Shaw   14043   \n3   2012-16                    Georgetown, Burleith/Hillandale   14991   \n4   2012-16                        West End, Foggy Bottom, GWU   16779   \n\n   TotPop_m cluster2017_nf start_date   end_date  PctPopUnder18Years  \\\n0       769      Cluster 1   1-Jan-12  31-Dec-16                 7.9   \n1      1649      Cluster 2   1-Jan-12  31-Dec-16                15.0   \n2       705      Cluster 3   1-Jan-12  31-Dec-16                 8.4   \n3       855      Cluster 4   1-Jan-12  31-Dec-16                 9.7   \n4       895      Cluster 5   1-Jan-12  31-Dec-16                 2.5   \n\n   PctPop65andOverYears  PctForeignBorn  ...  PctForeignBorn_m  \\\n0                   9.9            20.0  ...               2.4   \n1                   7.5            24.0  ...               1.8   \n2                   6.6            15.0  ...               2.4   \n3                  10.0            18.0  ...               2.8   \n4                   9.6            24.0  ...               3.1   \n\n   PctBlackNonHispBridge_m  PctWhiteNonHispBridge_m  PctHisp_m  \\\n0                      1.7                      2.8        1.8   \n1                      1.8                      1.4        2.4   \n2                      3.8                      3.0        2.3   \n3                      2.6                      2.2        1.9   \n4                      2.1                      3.3        1.8   \n\n   PctAPINonHispBridge_m  PctFamiliesOwnChildFH_m  PctChgTotPop  \\\n0                    1.4                      7.2             X   \n1                    0.8                      5.6             X   \n2                    1.2                     13.0             X   \n3                    1.6                     11.0             X   \n4                    1.7                     37.0             X   \n\n   PctChgPopUnder18Years  PctChgPop65andOverYear  indc  \n0                      X                       X     1  \n1                      X                       X     1  \n2                      X                       X     1  \n3                      X                       X     1  \n4                      X                       X     1  \n\n[5 rows x 27 columns]"
                    },
                    "execution_count": 5,
                    "metadata": {},
                    "output_type": "execute_result"
                }
            ],
            "source": "body = client_ff094178277849deb6d0c79aab125c5e.get_object(Bucket='capstoneprojectworkshop-donotdelete-pr-bvmy1ome1hfq5t',Key='pop_cluster.csv')['Body']\n# add missing __iter__ method, so pandas accepts body as file-like object\nif not hasattr(body, \"__iter__\"): body.__iter__ = types.MethodType( __iter__, body )\n\n# If you are reading an Excel file into a pandas DataFrame, replace `read_csv` by `read_excel` in the next statement.\npopulation = pd.read_csv(body)\npopulation.head()"
        },
        {
            "cell_type": "markdown",
            "metadata": {},
            "source": "The new pandas dataframes will be cleaned to make them easier to work with. We will also import additional demographic files that will appear in the final project."
        },
        {
            "cell_type": "code",
            "execution_count": null,
            "metadata": {},
            "outputs": [],
            "source": ""
        }
    ],
    "metadata": {
        "kernelspec": {
            "display_name": "Python 3.6",
            "language": "python",
            "name": "python3"
        },
        "language_info": {
            "codemirror_mode": {
                "name": "ipython",
                "version": 3
            },
            "file_extension": ".py",
            "mimetype": "text/x-python",
            "name": "python",
            "nbconvert_exporter": "python",
            "pygments_lexer": "ipython3",
            "version": "3.6.9"
        }
    },
    "nbformat": 4,
    "nbformat_minor": 1
}